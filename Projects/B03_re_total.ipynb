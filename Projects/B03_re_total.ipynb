{
 "cells": [
  {
   "cell_type": "code",
   "execution_count": 65,
   "metadata": {},
   "outputs": [
    {
     "name": "stdout",
     "output_type": "stream",
     "text": [
      "         거래일자  거래시간   지역  태양광 발전량(MWh)   풍력 발전량(MWh) \n",
      "0  2017-01-01     1  경기도                         0.01\n",
      "1  2017-01-01     2  경기도                             \n",
      "2  2017-01-01     3  경기도                             \n",
      "         거래일자  거래시간   지역    태양광 발전량(MWh)      풍력 발전량(MWh)  \n",
      "0  2023-03-01     1  경기도          1.246789              0.0\n",
      "1  2023-03-01     2  경기도          0.452960              0.0\n",
      "2  2023-03-01     3  경기도          0.005760              0.0\n",
      "         거래일자  거래시간   지역  태양광발전량(MWh)  풍력발전량(MWh)\n",
      "0  2023-06-01     1  강원도     2.163042    5.431346\n",
      "1  2023-06-01     2  강원도     1.011176    5.525512\n",
      "2  2023-06-01     3  강원도     0.692842    6.156516\n",
      "         거래일자  거래시간  지역명  태양광발전량(Mwh)  풍력발전량(Mwh)\n",
      "0  2023-09-01     1  경기도     0.029757         0.0\n",
      "1  2023-09-01     2  경기도     0.000000         0.0\n",
      "2  2023-09-01     3  경기도     0.000000         0.0\n",
      "             거래일자  거래시간  지역명  태양광발전량(Mwh)  풍력발전량(Mwh)\n",
      "37125  2023-11-30    22  부산시      0.61264         0.0\n",
      "37126  2023-11-30    23  부산시      0.07092         0.0\n",
      "37127  2023-11-30    24  부산시      0.00960         0.0\n"
     ]
    }
   ],
   "source": [
    "# RE data collection\n",
    "import pandas as pd\n",
    "import numpy as np\n",
    "import matplotlib.pyplot as plt\n",
    "import seaborn as sns\n",
    "\n",
    "data1 = pd.read_csv('../DATA/230403_지역별 시간별 태양광 발전량.csv', encoding='cp949')\n",
    "print(data1.head(3))\n",
    "data2 = pd.read_csv('../DATA/한국전력거래소_지역별 시간별 태양광 발전량_20230301_20230531.csv', encoding='cp949')\n",
    "print(data2.head(3))\n",
    "data3 = pd.read_csv('../DATA/한국전력거래소_지역별 시간별 태양광 및 풍력 발전량_20230630_20230831.csv', encoding='cp949')\n",
    "print(data3.head(3))\n",
    "data4 = pd.read_csv('../DATA/한국전력거래소_지역별 시간별 태양광 및 풍력 발전량_20231130.csv', encoding='cp949')\n",
    "print(data4.head(3))\n",
    "print(data4.tail(3))"
   ]
  },
  {
   "cell_type": "code",
   "execution_count": 66,
   "metadata": {},
   "outputs": [
    {
     "name": "stdout",
     "output_type": "stream",
     "text": [
      "             거래일자  거래시간   지역  태양광 발전량(MWh)   풍력 발전량(MWh) \n",
      "881280 2022-12-01     1  경기도           1.51             0\n",
      "881281 2022-12-01     2  경기도           0.14             0\n",
      "881282 2022-12-01     3  경기도              0             0\n",
      "             거래일자  거래시간   지역  태양광 발전량(MWh)   풍력 발전량(MWh) \n",
      "917997 2023-02-28    22  부산시           2.71              \n",
      "917998 2023-02-28    23  부산시           0.82              \n",
      "917999 2023-02-28    24  부산시           0.18              \n"
     ]
    }
   ],
   "source": [
    "# data1의 거래일자를 datetime으로 변환, 2022년 12월 1일부터 2023년 2월 28일까지의 데이터만 추출\n",
    "data1['거래일자'] = pd.to_datetime(data1['거래일자'])\n",
    "data1 = data1[(data1['거래일자'] >= '2022-12-01') & (data1['거래일자'] <= '2023-02-28')]\n",
    "# 거래일자\n",
    "print(data1.head(3)) \n",
    "print(data1.tail(3))"
   ]
  },
  {
   "cell_type": "code",
   "execution_count": 67,
   "metadata": {},
   "outputs": [
    {
     "name": "stdout",
     "output_type": "stream",
     "text": [
      "<class 'pandas.core.frame.DataFrame'>\n",
      "Index: 148920 entries, 881280 to 37127\n",
      "Data columns (total 5 columns):\n",
      " #   Column       Non-Null Count   Dtype \n",
      "---  ------       --------------   ----- \n",
      " 0   거래일자         148920 non-null  object\n",
      " 1   거래시간         148920 non-null  int64 \n",
      " 2   지역           148920 non-null  object\n",
      " 3   태양광발전량(MWh)  148920 non-null  object\n",
      " 4   풍력발전량(MWh)   122856 non-null  object\n",
      "dtypes: int64(1), object(4)\n",
      "memory usage: 6.8+ MB\n",
      "None\n",
      "Index(['거래일자', '거래시간', '지역', '태양광발전량(MWh)', '풍력발전량(MWh)'], dtype='object')\n"
     ]
    }
   ],
   "source": [
    "# 모든 데이터의 컬럼명을 통일 : data1\n",
    "data1.columns = data3.columns\n",
    "data2.columns = data3.columns\n",
    "data4.columns = data3.columns\n",
    "\n",
    "# concat\n",
    "data = pd.concat([data1, data2, data3, data4])\n",
    "print(data.info())\n",
    "print(data.columns)"
   ]
  },
  {
   "cell_type": "code",
   "execution_count": null,
   "metadata": {},
   "outputs": [],
   "source": []
  },
  {
   "cell_type": "code",
   "execution_count": 68,
   "metadata": {},
   "outputs": [
    {
     "name": "stdout",
     "output_type": "stream",
     "text": [
      "<class 'pandas.core.frame.DataFrame'>\n",
      "Index: 148920 entries, 881280 to 37127\n",
      "Data columns (total 4 columns):\n",
      " #   Column       Non-Null Count   Dtype \n",
      "---  ------       --------------   ----- \n",
      " 0   거래일자         148920 non-null  object\n",
      " 1   거래시간         148920 non-null  int64 \n",
      " 2   지역           148920 non-null  object\n",
      " 3   태양광발전량(MWh)  148920 non-null  object\n",
      "dtypes: int64(1), object(3)\n",
      "memory usage: 5.7+ MB\n",
      "None\n"
     ]
    }
   ],
   "source": [
    "data.drop('풍력발전량(MWh)', axis=1, inplace=True)\n",
    "print(data.info())"
   ]
  },
  {
   "cell_type": "code",
   "execution_count": 69,
   "metadata": {},
   "outputs": [
    {
     "name": "stdout",
     "output_type": "stream",
     "text": [
      "        거래시간   지역 태양광발전량(MWh)    연도   월  일\n",
      "881280     1  경기도        1.51  2022  12  1\n",
      "881281     2  경기도        0.14  2022  12  1\n",
      "881282     3  경기도           0  2022  12  1\n"
     ]
    }
   ],
   "source": [
    "# 거래일자에서 연도, 월, 일 추출\n",
    "data['거래일자'] = pd.to_datetime(data['거래일자'])\n",
    "data['연도'] = data['거래일자'].dt.year\n",
    "data['월'] = data['거래일자'].dt.month\n",
    "data['일'] = data['거래일자'].dt.day\n",
    "data.drop('거래일자', axis=1, inplace=True)\n",
    "print(data.head(3))"
   ]
  },
  {
   "cell_type": "code",
   "execution_count": 70,
   "metadata": {},
   "outputs": [
    {
     "name": "stdout",
     "output_type": "stream",
     "text": [
      "          연도   월  일  시간   지역 태양광발전량(MWh)\n",
      "881280  2022  12  1   1  경기도        1.51\n",
      "881281  2022  12  1   2  경기도        0.14\n",
      "881282  2022  12  1   3  경기도           0\n"
     ]
    }
   ],
   "source": [
    "# 컬럼명 변경\n",
    "data.columns = ['시간', '지역', '태양광발전량(MWh)', '연도', '월', '일']\n",
    "data = data[['연도', '월', '일', '시간', '지역', '태양광발전량(MWh)']]\n",
    "print(data.head(3))"
   ]
  },
  {
   "cell_type": "code",
   "execution_count": 71,
   "metadata": {},
   "outputs": [],
   "source": [
    "# 저장\n",
    "data.to_csv('../DATA/RE_data.csv', index=False, encoding='cp949')"
   ]
  },
  {
   "cell_type": "code",
   "execution_count": null,
   "metadata": {},
   "outputs": [],
   "source": []
  }
 ],
 "metadata": {
  "kernelspec": {
   "display_name": "Python 3",
   "language": "python",
   "name": "python3"
  },
  "language_info": {
   "codemirror_mode": {
    "name": "ipython",
    "version": 3
   },
   "file_extension": ".py",
   "mimetype": "text/x-python",
   "name": "python",
   "nbconvert_exporter": "python",
   "pygments_lexer": "ipython3",
   "version": "3.11.9"
  }
 },
 "nbformat": 4,
 "nbformat_minor": 2
}
